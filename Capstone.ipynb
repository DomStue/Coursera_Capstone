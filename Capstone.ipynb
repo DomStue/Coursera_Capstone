{
  "nbformat": 4,
  "nbformat_minor": 0,
  "metadata": {
    "colab": {
      "name": "Capstone.ipynb",
      "provenance": [],
      "authorship_tag": "ABX9TyMByUQXmuKpJq6z5hVQ3VXl",
      "include_colab_link": true
    },
    "kernelspec": {
      "name": "python3",
      "display_name": "Python 3"
    }
  },
  "cells": [
    {
      "cell_type": "markdown",
      "metadata": {
        "id": "view-in-github",
        "colab_type": "text"
      },
      "source": [
        "<a href=\"https://colab.research.google.com/github/DomStue/Coursera_Capstone/blob/master/Capstone.ipynb\" target=\"_parent\"><img src=\"https://colab.research.google.com/assets/colab-badge.svg\" alt=\"Open In Colab\"/></a>"
      ]
    },
    {
      "cell_type": "markdown",
      "metadata": {
        "id": "R_yJOyuiW23R",
        "colab_type": "text"
      },
      "source": [
        "## **Capstone Project**\n",
        "This project is mainly used to work on the capstone project of the data science course of IBM which I am attending"
      ]
    },
    {
      "cell_type": "code",
      "metadata": {
        "id": "voUbde4KNqjB",
        "colab_type": "code",
        "colab": {}
      },
      "source": [
        "import itertools\n",
        "import numpy as np\n",
        "import matplotlib.pyplot as plt\n",
        "from matplotlib.ticker import NullFormatter\n",
        "import pandas as pd\n",
        "import numpy as np\n",
        "import matplotlib.ticker as ticker\n",
        "from sklearn import preprocessing\n",
        "%matplotlib inline"
      ],
      "execution_count": 1,
      "outputs": []
    },
    {
      "cell_type": "code",
      "metadata": {
        "id": "taUb1UB3XQy1",
        "colab_type": "code",
        "colab": {
          "base_uri": "https://localhost:8080/",
          "height": 34
        },
        "outputId": "bc1a7234-9043-4e33-bf93-1f1977532397"
      },
      "source": [
        "print('Hello Capstone Project Course!')"
      ],
      "execution_count": 22,
      "outputs": [
        {
          "output_type": "stream",
          "text": [
            "Hello Capstone Project Course!\n"
          ],
          "name": "stdout"
        }
      ]
    },
    {
      "cell_type": "code",
      "metadata": {
        "id": "uA6hiixoOMjm",
        "colab_type": "code",
        "colab": {
          "base_uri": "https://localhost:8080/",
          "height": 204
        },
        "outputId": "44af93f2-1f46-45ec-fdda-a74fad858196"
      },
      "source": [
        "!wget -O Data-Collisions.csv https://s3.us.cloud-object-storage.appdomain.cloud/cf-courses-data/CognitiveClass/DP0701EN/version-2/Data-Collisions.csv"
      ],
      "execution_count": 2,
      "outputs": [
        {
          "output_type": "stream",
          "text": [
            "--2020-09-10 08:54:58--  https://s3.us.cloud-object-storage.appdomain.cloud/cf-courses-data/CognitiveClass/DP0701EN/version-2/Data-Collisions.csv\n",
            "Resolving s3.us.cloud-object-storage.appdomain.cloud (s3.us.cloud-object-storage.appdomain.cloud)... 67.228.254.196\n",
            "Connecting to s3.us.cloud-object-storage.appdomain.cloud (s3.us.cloud-object-storage.appdomain.cloud)|67.228.254.196|:443... connected.\n",
            "HTTP request sent, awaiting response... 200 OK\n",
            "Length: 73917638 (70M) [text/csv]\n",
            "Saving to: ‘Data-Collisions.csv’\n",
            "\n",
            "Data-Collisions.csv 100%[===================>]  70.49M  45.1MB/s    in 1.6s    \n",
            "\n",
            "2020-09-10 08:55:00 (45.1 MB/s) - ‘Data-Collisions.csv’ saved [73917638/73917638]\n",
            "\n"
          ],
          "name": "stdout"
        }
      ]
    },
    {
      "cell_type": "code",
      "metadata": {
        "id": "QI6C0Jl6Oaas",
        "colab_type": "code",
        "colab": {
          "base_uri": "https://localhost:8080/",
          "height": 734
        },
        "outputId": "4fba3546-3644-47a6-cb2f-d6aefe6c36ab"
      },
      "source": [
        "df = pd.read_csv('Data-Collisions.csv')\n",
        "df.head()"
      ],
      "execution_count": 3,
      "outputs": [
        {
          "output_type": "stream",
          "text": [
            "/usr/local/lib/python3.6/dist-packages/IPython/core/interactiveshell.py:2718: DtypeWarning: Columns (33) have mixed types.Specify dtype option on import or set low_memory=False.\n",
            "  interactivity=interactivity, compiler=compiler, result=result)\n"
          ],
          "name": "stderr"
        },
        {
          "output_type": "execute_result",
          "data": {
            "text/html": [
              "<div>\n",
              "<style scoped>\n",
              "    .dataframe tbody tr th:only-of-type {\n",
              "        vertical-align: middle;\n",
              "    }\n",
              "\n",
              "    .dataframe tbody tr th {\n",
              "        vertical-align: top;\n",
              "    }\n",
              "\n",
              "    .dataframe thead th {\n",
              "        text-align: right;\n",
              "    }\n",
              "</style>\n",
              "<table border=\"1\" class=\"dataframe\">\n",
              "  <thead>\n",
              "    <tr style=\"text-align: right;\">\n",
              "      <th></th>\n",
              "      <th>SEVERITYCODE</th>\n",
              "      <th>X</th>\n",
              "      <th>Y</th>\n",
              "      <th>OBJECTID</th>\n",
              "      <th>INCKEY</th>\n",
              "      <th>COLDETKEY</th>\n",
              "      <th>REPORTNO</th>\n",
              "      <th>STATUS</th>\n",
              "      <th>ADDRTYPE</th>\n",
              "      <th>INTKEY</th>\n",
              "      <th>LOCATION</th>\n",
              "      <th>EXCEPTRSNCODE</th>\n",
              "      <th>EXCEPTRSNDESC</th>\n",
              "      <th>SEVERITYCODE.1</th>\n",
              "      <th>SEVERITYDESC</th>\n",
              "      <th>COLLISIONTYPE</th>\n",
              "      <th>PERSONCOUNT</th>\n",
              "      <th>PEDCOUNT</th>\n",
              "      <th>PEDCYLCOUNT</th>\n",
              "      <th>VEHCOUNT</th>\n",
              "      <th>INCDATE</th>\n",
              "      <th>INCDTTM</th>\n",
              "      <th>JUNCTIONTYPE</th>\n",
              "      <th>SDOT_COLCODE</th>\n",
              "      <th>SDOT_COLDESC</th>\n",
              "      <th>INATTENTIONIND</th>\n",
              "      <th>UNDERINFL</th>\n",
              "      <th>WEATHER</th>\n",
              "      <th>ROADCOND</th>\n",
              "      <th>LIGHTCOND</th>\n",
              "      <th>PEDROWNOTGRNT</th>\n",
              "      <th>SDOTCOLNUM</th>\n",
              "      <th>SPEEDING</th>\n",
              "      <th>ST_COLCODE</th>\n",
              "      <th>ST_COLDESC</th>\n",
              "      <th>SEGLANEKEY</th>\n",
              "      <th>CROSSWALKKEY</th>\n",
              "      <th>HITPARKEDCAR</th>\n",
              "    </tr>\n",
              "  </thead>\n",
              "  <tbody>\n",
              "    <tr>\n",
              "      <th>0</th>\n",
              "      <td>2</td>\n",
              "      <td>-122.323148</td>\n",
              "      <td>47.703140</td>\n",
              "      <td>1</td>\n",
              "      <td>1307</td>\n",
              "      <td>1307</td>\n",
              "      <td>3502005</td>\n",
              "      <td>Matched</td>\n",
              "      <td>Intersection</td>\n",
              "      <td>37475.0</td>\n",
              "      <td>5TH AVE NE AND NE 103RD ST</td>\n",
              "      <td></td>\n",
              "      <td>NaN</td>\n",
              "      <td>2</td>\n",
              "      <td>Injury Collision</td>\n",
              "      <td>Angles</td>\n",
              "      <td>2</td>\n",
              "      <td>0</td>\n",
              "      <td>0</td>\n",
              "      <td>2</td>\n",
              "      <td>2013/03/27 00:00:00+00</td>\n",
              "      <td>3/27/2013 2:54:00 PM</td>\n",
              "      <td>At Intersection (intersection related)</td>\n",
              "      <td>11</td>\n",
              "      <td>MOTOR VEHICLE STRUCK MOTOR VEHICLE, FRONT END ...</td>\n",
              "      <td>NaN</td>\n",
              "      <td>N</td>\n",
              "      <td>Overcast</td>\n",
              "      <td>Wet</td>\n",
              "      <td>Daylight</td>\n",
              "      <td>NaN</td>\n",
              "      <td>NaN</td>\n",
              "      <td>NaN</td>\n",
              "      <td>10</td>\n",
              "      <td>Entering at angle</td>\n",
              "      <td>0</td>\n",
              "      <td>0</td>\n",
              "      <td>N</td>\n",
              "    </tr>\n",
              "    <tr>\n",
              "      <th>1</th>\n",
              "      <td>1</td>\n",
              "      <td>-122.347294</td>\n",
              "      <td>47.647172</td>\n",
              "      <td>2</td>\n",
              "      <td>52200</td>\n",
              "      <td>52200</td>\n",
              "      <td>2607959</td>\n",
              "      <td>Matched</td>\n",
              "      <td>Block</td>\n",
              "      <td>NaN</td>\n",
              "      <td>AURORA BR BETWEEN RAYE ST AND BRIDGE WAY N</td>\n",
              "      <td>NaN</td>\n",
              "      <td>NaN</td>\n",
              "      <td>1</td>\n",
              "      <td>Property Damage Only Collision</td>\n",
              "      <td>Sideswipe</td>\n",
              "      <td>2</td>\n",
              "      <td>0</td>\n",
              "      <td>0</td>\n",
              "      <td>2</td>\n",
              "      <td>2006/12/20 00:00:00+00</td>\n",
              "      <td>12/20/2006 6:55:00 PM</td>\n",
              "      <td>Mid-Block (not related to intersection)</td>\n",
              "      <td>16</td>\n",
              "      <td>MOTOR VEHICLE STRUCK MOTOR VEHICLE, LEFT SIDE ...</td>\n",
              "      <td>NaN</td>\n",
              "      <td>0</td>\n",
              "      <td>Raining</td>\n",
              "      <td>Wet</td>\n",
              "      <td>Dark - Street Lights On</td>\n",
              "      <td>NaN</td>\n",
              "      <td>6354039.0</td>\n",
              "      <td>NaN</td>\n",
              "      <td>11</td>\n",
              "      <td>From same direction - both going straight - bo...</td>\n",
              "      <td>0</td>\n",
              "      <td>0</td>\n",
              "      <td>N</td>\n",
              "    </tr>\n",
              "    <tr>\n",
              "      <th>2</th>\n",
              "      <td>1</td>\n",
              "      <td>-122.334540</td>\n",
              "      <td>47.607871</td>\n",
              "      <td>3</td>\n",
              "      <td>26700</td>\n",
              "      <td>26700</td>\n",
              "      <td>1482393</td>\n",
              "      <td>Matched</td>\n",
              "      <td>Block</td>\n",
              "      <td>NaN</td>\n",
              "      <td>4TH AVE BETWEEN SENECA ST AND UNIVERSITY ST</td>\n",
              "      <td>NaN</td>\n",
              "      <td>NaN</td>\n",
              "      <td>1</td>\n",
              "      <td>Property Damage Only Collision</td>\n",
              "      <td>Parked Car</td>\n",
              "      <td>4</td>\n",
              "      <td>0</td>\n",
              "      <td>0</td>\n",
              "      <td>3</td>\n",
              "      <td>2004/11/18 00:00:00+00</td>\n",
              "      <td>11/18/2004 10:20:00 AM</td>\n",
              "      <td>Mid-Block (not related to intersection)</td>\n",
              "      <td>14</td>\n",
              "      <td>MOTOR VEHICLE STRUCK MOTOR VEHICLE, REAR END</td>\n",
              "      <td>NaN</td>\n",
              "      <td>0</td>\n",
              "      <td>Overcast</td>\n",
              "      <td>Dry</td>\n",
              "      <td>Daylight</td>\n",
              "      <td>NaN</td>\n",
              "      <td>4323031.0</td>\n",
              "      <td>NaN</td>\n",
              "      <td>32</td>\n",
              "      <td>One parked--one moving</td>\n",
              "      <td>0</td>\n",
              "      <td>0</td>\n",
              "      <td>N</td>\n",
              "    </tr>\n",
              "    <tr>\n",
              "      <th>3</th>\n",
              "      <td>1</td>\n",
              "      <td>-122.334803</td>\n",
              "      <td>47.604803</td>\n",
              "      <td>4</td>\n",
              "      <td>1144</td>\n",
              "      <td>1144</td>\n",
              "      <td>3503937</td>\n",
              "      <td>Matched</td>\n",
              "      <td>Block</td>\n",
              "      <td>NaN</td>\n",
              "      <td>2ND AVE BETWEEN MARION ST AND MADISON ST</td>\n",
              "      <td></td>\n",
              "      <td>NaN</td>\n",
              "      <td>1</td>\n",
              "      <td>Property Damage Only Collision</td>\n",
              "      <td>Other</td>\n",
              "      <td>3</td>\n",
              "      <td>0</td>\n",
              "      <td>0</td>\n",
              "      <td>3</td>\n",
              "      <td>2013/03/29 00:00:00+00</td>\n",
              "      <td>3/29/2013 9:26:00 AM</td>\n",
              "      <td>Mid-Block (not related to intersection)</td>\n",
              "      <td>11</td>\n",
              "      <td>MOTOR VEHICLE STRUCK MOTOR VEHICLE, FRONT END ...</td>\n",
              "      <td>NaN</td>\n",
              "      <td>N</td>\n",
              "      <td>Clear</td>\n",
              "      <td>Dry</td>\n",
              "      <td>Daylight</td>\n",
              "      <td>NaN</td>\n",
              "      <td>NaN</td>\n",
              "      <td>NaN</td>\n",
              "      <td>23</td>\n",
              "      <td>From same direction - all others</td>\n",
              "      <td>0</td>\n",
              "      <td>0</td>\n",
              "      <td>N</td>\n",
              "    </tr>\n",
              "    <tr>\n",
              "      <th>4</th>\n",
              "      <td>2</td>\n",
              "      <td>-122.306426</td>\n",
              "      <td>47.545739</td>\n",
              "      <td>5</td>\n",
              "      <td>17700</td>\n",
              "      <td>17700</td>\n",
              "      <td>1807429</td>\n",
              "      <td>Matched</td>\n",
              "      <td>Intersection</td>\n",
              "      <td>34387.0</td>\n",
              "      <td>SWIFT AVE S AND SWIFT AV OFF RP</td>\n",
              "      <td>NaN</td>\n",
              "      <td>NaN</td>\n",
              "      <td>2</td>\n",
              "      <td>Injury Collision</td>\n",
              "      <td>Angles</td>\n",
              "      <td>2</td>\n",
              "      <td>0</td>\n",
              "      <td>0</td>\n",
              "      <td>2</td>\n",
              "      <td>2004/01/28 00:00:00+00</td>\n",
              "      <td>1/28/2004 8:04:00 AM</td>\n",
              "      <td>At Intersection (intersection related)</td>\n",
              "      <td>11</td>\n",
              "      <td>MOTOR VEHICLE STRUCK MOTOR VEHICLE, FRONT END ...</td>\n",
              "      <td>NaN</td>\n",
              "      <td>0</td>\n",
              "      <td>Raining</td>\n",
              "      <td>Wet</td>\n",
              "      <td>Daylight</td>\n",
              "      <td>NaN</td>\n",
              "      <td>4028032.0</td>\n",
              "      <td>NaN</td>\n",
              "      <td>10</td>\n",
              "      <td>Entering at angle</td>\n",
              "      <td>0</td>\n",
              "      <td>0</td>\n",
              "      <td>N</td>\n",
              "    </tr>\n",
              "  </tbody>\n",
              "</table>\n",
              "</div>"
            ],
            "text/plain": [
              "   SEVERITYCODE           X          Y  ...  SEGLANEKEY  CROSSWALKKEY  HITPARKEDCAR\n",
              "0             2 -122.323148  47.703140  ...           0             0             N\n",
              "1             1 -122.347294  47.647172  ...           0             0             N\n",
              "2             1 -122.334540  47.607871  ...           0             0             N\n",
              "3             1 -122.334803  47.604803  ...           0             0             N\n",
              "4             2 -122.306426  47.545739  ...           0             0             N\n",
              "\n",
              "[5 rows x 38 columns]"
            ]
          },
          "metadata": {
            "tags": []
          },
          "execution_count": 3
        }
      ]
    },
    {
      "cell_type": "code",
      "metadata": {
        "id": "60_vi0iEOjX3",
        "colab_type": "code",
        "colab": {
          "base_uri": "https://localhost:8080/",
          "height": 34
        },
        "outputId": "328d798c-0025-446c-e554-0a5406fd979a"
      },
      "source": [
        "df.shape"
      ],
      "execution_count": 4,
      "outputs": [
        {
          "output_type": "execute_result",
          "data": {
            "text/plain": [
              "(194673, 38)"
            ]
          },
          "metadata": {
            "tags": []
          },
          "execution_count": 4
        }
      ]
    },
    {
      "cell_type": "code",
      "metadata": {
        "id": "1xlgGh8hPN7n",
        "colab_type": "code",
        "colab": {
          "base_uri": "https://localhost:8080/",
          "height": 282
        },
        "outputId": "da4fb11c-fa6f-4ad0-e537-134d5754aabb"
      },
      "source": [
        "df[['ROADCOND']].head()"
      ],
      "execution_count": 15,
      "outputs": [
        {
          "output_type": "error",
          "ename": "AttributeError",
          "evalue": "ignored",
          "traceback": [
            "\u001b[0;31m---------------------------------------------------------------------------\u001b[0m",
            "\u001b[0;31mAttributeError\u001b[0m                            Traceback (most recent call last)",
            "\u001b[0;32m<ipython-input-15-c98d47f3593e>\u001b[0m in \u001b[0;36m<module>\u001b[0;34m()\u001b[0m\n\u001b[0;32m----> 1\u001b[0;31m \u001b[0mdf\u001b[0m\u001b[0;34m[\u001b[0m\u001b[0;34m[\u001b[0m\u001b[0;34m'ROADCOND'\u001b[0m\u001b[0;34m]\u001b[0m\u001b[0;34m]\u001b[0m\u001b[0;34m.\u001b[0m\u001b[0mvalue_counts\u001b[0m\u001b[0;34m(\u001b[0m\u001b[0;34m)\u001b[0m\u001b[0;34m\u001b[0m\u001b[0;34m\u001b[0m\u001b[0m\n\u001b[0m",
            "\u001b[0;32m/usr/local/lib/python3.6/dist-packages/pandas/core/generic.py\u001b[0m in \u001b[0;36m__getattr__\u001b[0;34m(self, name)\u001b[0m\n\u001b[1;32m   5272\u001b[0m             \u001b[0;32mif\u001b[0m \u001b[0mself\u001b[0m\u001b[0;34m.\u001b[0m\u001b[0m_info_axis\u001b[0m\u001b[0;34m.\u001b[0m\u001b[0m_can_hold_identifiers_and_holds_name\u001b[0m\u001b[0;34m(\u001b[0m\u001b[0mname\u001b[0m\u001b[0;34m)\u001b[0m\u001b[0;34m:\u001b[0m\u001b[0;34m\u001b[0m\u001b[0;34m\u001b[0m\u001b[0m\n\u001b[1;32m   5273\u001b[0m                 \u001b[0;32mreturn\u001b[0m \u001b[0mself\u001b[0m\u001b[0;34m[\u001b[0m\u001b[0mname\u001b[0m\u001b[0;34m]\u001b[0m\u001b[0;34m\u001b[0m\u001b[0;34m\u001b[0m\u001b[0m\n\u001b[0;32m-> 5274\u001b[0;31m             \u001b[0;32mreturn\u001b[0m \u001b[0mobject\u001b[0m\u001b[0;34m.\u001b[0m\u001b[0m__getattribute__\u001b[0m\u001b[0;34m(\u001b[0m\u001b[0mself\u001b[0m\u001b[0;34m,\u001b[0m \u001b[0mname\u001b[0m\u001b[0;34m)\u001b[0m\u001b[0;34m\u001b[0m\u001b[0;34m\u001b[0m\u001b[0m\n\u001b[0m\u001b[1;32m   5275\u001b[0m \u001b[0;34m\u001b[0m\u001b[0m\n\u001b[1;32m   5276\u001b[0m     \u001b[0;32mdef\u001b[0m \u001b[0m__setattr__\u001b[0m\u001b[0;34m(\u001b[0m\u001b[0mself\u001b[0m\u001b[0;34m,\u001b[0m \u001b[0mname\u001b[0m\u001b[0;34m:\u001b[0m \u001b[0mstr\u001b[0m\u001b[0;34m,\u001b[0m \u001b[0mvalue\u001b[0m\u001b[0;34m)\u001b[0m \u001b[0;34m->\u001b[0m \u001b[0;32mNone\u001b[0m\u001b[0;34m:\u001b[0m\u001b[0;34m\u001b[0m\u001b[0;34m\u001b[0m\u001b[0m\n",
            "\u001b[0;31mAttributeError\u001b[0m: 'DataFrame' object has no attribute 'value_counts'"
          ]
        }
      ]
    },
    {
      "cell_type": "code",
      "metadata": {
        "id": "DAb9yUFSQJWl",
        "colab_type": "code",
        "colab": {
          "base_uri": "https://localhost:8080/",
          "height": 680
        },
        "outputId": "68e280a4-faa2-4c3a-d472-1e01f2c135ce"
      },
      "source": [
        "df.isnull().sum()"
      ],
      "execution_count": 16,
      "outputs": [
        {
          "output_type": "execute_result",
          "data": {
            "text/plain": [
              "SEVERITYCODE           0\n",
              "X                   5334\n",
              "Y                   5334\n",
              "OBJECTID               0\n",
              "INCKEY                 0\n",
              "COLDETKEY              0\n",
              "REPORTNO               0\n",
              "STATUS                 0\n",
              "ADDRTYPE            1926\n",
              "INTKEY            129603\n",
              "LOCATION            2677\n",
              "EXCEPTRSNCODE     109862\n",
              "EXCEPTRSNDESC     189035\n",
              "SEVERITYCODE.1         0\n",
              "SEVERITYDESC           0\n",
              "COLLISIONTYPE       4904\n",
              "PERSONCOUNT            0\n",
              "PEDCOUNT               0\n",
              "PEDCYLCOUNT            0\n",
              "VEHCOUNT               0\n",
              "INCDATE                0\n",
              "INCDTTM                0\n",
              "JUNCTIONTYPE        6329\n",
              "SDOT_COLCODE           0\n",
              "SDOT_COLDESC           0\n",
              "INATTENTIONIND    164868\n",
              "UNDERINFL           4884\n",
              "WEATHER             5081\n",
              "ROADCOND            5012\n",
              "LIGHTCOND           5170\n",
              "PEDROWNOTGRNT     190006\n",
              "SDOTCOLNUM         79737\n",
              "SPEEDING          185340\n",
              "ST_COLCODE            18\n",
              "ST_COLDESC          4904\n",
              "SEGLANEKEY             0\n",
              "CROSSWALKKEY           0\n",
              "HITPARKEDCAR           0\n",
              "dtype: int64"
            ]
          },
          "metadata": {
            "tags": []
          },
          "execution_count": 16
        }
      ]
    },
    {
      "cell_type": "code",
      "metadata": {
        "id": "LXa0yyFQRQAF",
        "colab_type": "code",
        "colab": {
          "base_uri": "https://localhost:8080/",
          "height": 119
        },
        "outputId": "75456ab5-444b-4cf8-80bd-f74792c2b6be"
      },
      "source": [
        ""
      ],
      "execution_count": 21,
      "outputs": [
        {
          "output_type": "execute_result",
          "data": {
            "text/plain": [
              "0    Wet\n",
              "1    Wet\n",
              "2    Dry\n",
              "3    Dry\n",
              "4    Wet\n",
              "Name: ROADCOND, dtype: object"
            ]
          },
          "metadata": {
            "tags": []
          },
          "execution_count": 21
        }
      ]
    },
    {
      "cell_type": "code",
      "metadata": {
        "id": "utoshrOcRdPV",
        "colab_type": "code",
        "colab": {}
      },
      "source": [
        ""
      ],
      "execution_count": null,
      "outputs": []
    }
  ]
}